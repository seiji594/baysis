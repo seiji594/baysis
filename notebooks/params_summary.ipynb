{
 "cells": [
  {
   "cell_type": "code",
   "execution_count": 1,
   "id": "2c7dd9e0-0268-422f-b371-e164b2fb287f",
   "metadata": {},
   "outputs": [],
   "source": [
    "from cppbridge import *\n",
    "from mcmc_analytics import *"
   ]
  },
  {
   "cell_type": "code",
   "execution_count": 2,
   "id": "0e24327d-fc9b-4f44-b4fc-501dd39fd87b",
   "metadata": {},
   "outputs": [],
   "source": [
    "%load_ext autoreload\n",
    "%autoreload 2"
   ]
  },
  {
   "cell_type": "markdown",
   "id": "6c533922-188b-4738-b34a-e09f775d6222",
   "metadata": {},
   "source": [
    "This notebook is to summarise the parameter inference results on all three models"
   ]
  },
  {
   "cell_type": "code",
   "execution_count": 3,
   "id": "c2c1b502-3556-4adb-979f-5b494010f287",
   "metadata": {},
   "outputs": [],
   "source": [
    "# First give names of the run experiments to summarise\n",
    "experiments = ['paramsampl_ehmm50_wreverse_lg',\n",
    "              'paramsampl_ehmm50_wreverse_lp',\n",
    "              'paramsampl_ehmm50_wreverse_bp']"
   ]
  },
  {
   "cell_type": "code",
   "execution_count": 4,
   "id": "fa06fc50-19f6-45be-afe3-b1385ccd5510",
   "metadata": {},
   "outputs": [],
   "source": [
    "# Now provide the parameters names and their true values\n",
    "lg_params = dict(zip([\"$a_i$\", \"$\\\\rho$\", \"$c_i$\", \"$r_i$\"], [0.9, 0.7, -0.4, 1.0]))\n",
    "lp_params = dict(zip([\"$a_i$\", \"$\\\\rho$\", \"$c_i$\", \"$d_i$\"], [0.9, 0.7, 0.6, -0.4]))\n",
    "bp_params = dict(zip([\"$a_i$\", \"$\\\\rho$\", \"$\\sigma_i$\"], [0.9, 0.7, 0.8]))\n",
    "params = dict(zip(experiments, [lg_params, lp_params, bp_params]))"
   ]
  },
  {
   "cell_type": "code",
   "execution_count": null,
   "id": "92ea843d-8770-4a22-8f48-9465579b4ef0",
   "metadata": {},
   "outputs": [],
   "source": [
    "# Display the summary of performance\n",
    "perf = getPerformanceSummary(experiments)\n",
    "perf"
   ]
  },
  {
   "cell_type": "code",
   "execution_count": null,
   "id": "544dba4f-6887-44f1-9592-e4d3c11ebeb0",
   "metadata": {},
   "outputs": [],
   "source": [
    "perf.to_latex(OUTPUTS_PATH/\"paraminf_perf.tex\", column_format=\"rrrrr\", escape=True, \n",
    "              caption=\"Performance of samplers on parameter inference.\")"
   ]
  },
  {
   "cell_type": "code",
   "execution_count": null,
   "id": "5b1cbd6c-b47d-4d1c-a576-1063028aba5f",
   "metadata": {},
   "outputs": [],
   "source": [
    "# Display the summary of inference results\n",
    "infr = getInferenceSummary(experiments, params)"
   ]
  },
  {
   "cell_type": "code",
   "execution_count": null,
   "id": "ddcdb3a3-7e54-4d11-a0f4-10f02a7b1315",
   "metadata": {},
   "outputs": [],
   "source": [
    "infr.to_latex(OUTPUTS_PATH/\"paraminf_smry.tex\", column_format=\"rrrrr\", escape=True, \n",
    "              caption=\"Summary of models parametrisation and results of parameter sampling.\")"
   ]
  }
 ],
 "metadata": {
  "kernelspec": {
   "display_name": "Python 3 (ipykernel)",
   "language": "python",
   "name": "python3"
  },
  "language_info": {
   "codemirror_mode": {
    "name": "ipython",
    "version": 3
   },
   "file_extension": ".py",
   "mimetype": "text/x-python",
   "name": "python",
   "nbconvert_exporter": "python",
   "pygments_lexer": "ipython3",
   "version": "3.9.7"
  }
 },
 "nbformat": 4,
 "nbformat_minor": 5
}
