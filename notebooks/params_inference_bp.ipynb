{
 "cells": [
  {
   "cell_type": "code",
   "execution_count": null,
   "id": "9c41fd60-d06e-4b56-890d-acbcde6231a5",
   "metadata": {
    "pycharm": {
     "name": "#%%\n"
    }
   },
   "outputs": [],
   "source": [
    "from cppbridge import *\n",
    "from mcmc_analytics import *"
   ]
  },
  {
   "cell_type": "code",
   "execution_count": null,
   "id": "834d0f05-d771-4fba-acbf-a6ca612cfb1e",
   "metadata": {
    "pycharm": {
     "name": "#%%\n"
    }
   },
   "outputs": [],
   "source": [
    "%load_ext autoreload\n",
    "%autoreload 2"
   ]
  },
  {
   "cell_type": "markdown",
   "id": "4188f364-ea3c-4d41-ad53-412a04576631",
   "metadata": {
    "pycharm": {
     "name": "#%% md\n"
    }
   },
   "source": [
    "# Inferring parameters with EHMM samplers for Poisson model 2"
   ]
  },
  {
   "cell_type": "markdown",
   "id": "f207a842-b540-4971-a9de-7ad3a5b83275",
   "metadata": {
    "pycharm": {
     "name": "#%% md\n"
    }
   },
   "source": [
    "The experiments are for the models and samplers presented in the paper\\\n",
    "[1] Shestopaloff A.Y, Neal R.M. Sampling Latent States for High-Dimensional Non-Linear State Space Models with the Embedded HMM Method"
   ]
  },
  {
   "cell_type": "markdown",
   "id": "0c3f4d20-905c-4feb-a220-8351f7ca7aa0",
   "metadata": {
    "pycharm": {
     "name": "#%% md\n"
    }
   },
   "source": [
    "---\n",
    "## Model specification\n",
    "Here we will try to recover the parameters of the same non-linear SSM we used in the experiments with Poisson model 2 with known parameters (see `sampling_bimodal.ipynb` notebook). To do that we will specify the priors for each of the parameters driving the model: $a_i$ and $\\rho$ for transition model and $\\sigma_i$ for the observation model.\n",
    "\n",
    "Out chosen priors are as follows:\n",
    "* $a_{i}\\sim\\mathrm{U}(-1,1)$: for VAR(1) process we need our coefficients to be between -1 and 1\n",
    "* $\\rho\\sim\\mathrm{U}(0,1)$\n",
    "* $\\sigma_{i}\\sim\\mathcal{N}(0,\\sigma^{2})$\n",
    "where $\\sigma^{2}$ is a large number to make the prior vague"
   ]
  },
  {
   "cell_type": "code",
   "execution_count": null,
   "id": "af85fe36-116d-4d37-82a5-7bf43fe65fde",
   "metadata": {
    "pycharm": {
     "name": "#%%\n"
    }
   },
   "outputs": [],
   "source": [
    "# Set up the transition model with unknown parameters\n",
    "T = 250\n",
    "n = 10\n",
    "A = DiagonalMatrixParam()\n",
    "aa = -1.\n",
    "bb = 1.\n",
    "A.parametrize(n, DistributionType.UNIFORM, (aa, bb), minx=aa, maxx=bb)\n",
    "Q = SymmetricMatrixParam()\n",
    "a = 0.\n",
    "b = 1.\n",
    "x_var = 1.\n",
    "Q.parametrize(n, DistributionType.UNIFORM, (a, b), x_var, minx=a, maxx=b)\n",
    "# Prior mean is always zero\n",
    "prior_mean = np.zeros(n)\n",
    "# The prior covariance will be re-calculated for each newly accepted parameters, including for the first iteration \n",
    "# so below will not be used but still required to intialize the class \n",
    "Q_init = np.eye(n)\n",
    "trm = TransitionSpec(A, Q, prior_mean, Q_init)"
   ]
  },
  {
   "cell_type": "code",
   "execution_count": null,
   "id": "e7d67aa0-6467-4e0e-bed8-854b424841d4",
   "metadata": {
    "pycharm": {
     "name": "#%%\n"
    }
   },
   "outputs": [],
   "source": [
    "# Set up the observation model with unknown parameters\n",
    "sigma = VectorParam()\n",
    "mu = 0\n",
    "var = 25\n",
    "sigma.parametrize(n, DistributionType.NORMAL, (mu, np.sqrt(var)))\n",
    "obsm = ObservationSpec(ModelType.BIMODAL_POISSON, sigma)"
   ]
  },
  {
   "cell_type": "markdown",
   "id": "bfc23579-126c-4e81-9b7f-28d2653d48b7",
   "metadata": {
    "pycharm": {
     "name": "#%% md\n"
    }
   },
   "source": [
    "## Sampler specification\n",
    "### Embedded HMM sampling scheme\n",
    "In these experiments we will only be using EHMM sampler."
   ]
  },
  {
   "cell_type": "code",
   "execution_count": null,
   "id": "a58cdf85",
   "metadata": {
    "collapsed": false,
    "jupyter": {
     "outputs_hidden": false
    },
    "pycharm": {
     "name": "#%%\n"
    }
   },
   "outputs": [],
   "source": [
    "# Specify EHMM scheme\n",
    "nupd = 50  # number of parameter updates between the scheme runs\n",
    "pool_sz = 80\n",
    "ehmm_sampler = SamplerSpec(SamplerType.EHMM, pool_size=pool_sz, num_parameter_updates=nupd, flip=True)"
   ]
  },
  {
   "cell_type": "markdown",
   "id": "b8c40802",
   "metadata": {
    "pycharm": {
     "name": "#%% md\n"
    }
   },
   "source": [
    "## Observations\n",
    "We need the observations, on which to run the samplers. The data we use is the synthetic data, generated in `models.ipynb` notebook. In this experiemtns we will try and recover the parameters used to generate that data as well as the latent states."
   ]
  },
  {
   "cell_type": "code",
   "execution_count": null,
   "id": "405e6801",
   "metadata": {
    "collapsed": false,
    "jupyter": {
     "outputs_hidden": false
    },
    "pycharm": {
     "name": "#%%\n"
    }
   },
   "outputs": [],
   "source": [
    "model = \"gauss_poiss2_3225125971228064704\"\n",
    "dataprovider = model + \"_data.h5\"\n",
    "dataspec = Data(dataprovider)"
   ]
  },
  {
   "cell_type": "markdown",
   "id": "2b2e5ab9-9597-4f03-9af7-71f26e3ebfd6",
   "metadata": {
    "pycharm": {
     "name": "#%% md\n"
    }
   },
   "source": [
    "## Simulation    \n",
    "To run the simulation we need to provide the initial sample $\\mathbf{x}_0$ to start off the sampler, and specify the parameters of the simulation. As in the case when we ran the model with known parameters, here we also set $\\mathbf{x}_0=\\mathbf{1}$ and run 5 simulations for $10 000$ iterations each, starting with the different seed for randomisation."
   ]
  },
  {
   "cell_type": "code",
   "execution_count": null,
   "id": "03f80918-668d-4c8c-9882-37028b5ca924",
   "metadata": {
    "pycharm": {
     "name": "#%%\n"
    }
   },
   "outputs": [],
   "source": [
    "n_iter_ehmm = 10000\n",
    "x_init = np.ones((n, T))\n",
    "seeds = np.array([1, 10, 100, 1e4, 1e5], dtype=int)\n",
    "scales_ehmm = np.array([0.05, 0.2])\n",
    "reverse = False\n",
    "flip = True\n",
    "simulation_ehmm = SimulationSpec(n_iter_ehmm, seeds, x_init, scaling=scales_ehmm, reverse=reverse)"
   ]
  },
  {
   "cell_type": "code",
   "execution_count": null,
   "id": "b96a27e0-b66a-4b8d-bef7-5284b92a1934",
   "metadata": {
    "pycharm": {
     "name": "#%%\n"
    }
   },
   "outputs": [],
   "source": [
    "# Simulation with EHMM sampler\n",
    "ehmm_session_name = f\"param_ehmm80_flip_{model}\"\n",
    "mcmc_ehmm_bp = MCMCsession(ehmm_session_name)\n",
    "if mcmc_ehmm_bp.hasResults():\n",
    "    mcmc_ehmm_bp.loadResults()\n",
    "else:\n",
    "    mcmc_ehmm_bp.init(T, trm, obsm, ehmm_sampler, simulation_ehmm, dataspec)\n",
    "    mcmc_ehmm_bp.run()"
   ]
  },
  {
   "cell_type": "markdown",
   "id": "83f0b960",
   "metadata": {
    "pycharm": {
     "name": "#%% md\n"
    }
   },
   "source": [
    "---\n",
    "## Analysis of the results\n",
    "### Overview"
   ]
  },
  {
   "cell_type": "code",
   "execution_count": null,
   "id": "3b0e887b-db03-450e-951b-54ec7c3bc788",
   "metadata": {
    "collapsed": false,
    "jupyter": {
     "outputs_hidden": false
    },
    "pycharm": {
     "name": "#%%\n"
    }
   },
   "outputs": [],
   "source": [
    "ehmm_burnin = int(0.1 * 2 * (n_iter_ehmm + 1))  # <-- as we run on reversed sequence, too, there will be twice as many samples\n",
    "ehmm_samples = mcmc_ehmm_bp.get_samples(ehmm_burnin)"
   ]
  },
  {
   "cell_type": "code",
   "execution_count": null,
   "id": "7e28d766-160e-49ff-a412-2d894dca8fad",
   "metadata": {
    "collapsed": false,
    "jupyter": {
     "outputs_hidden": false
    },
    "pycharm": {
     "name": "#%%\n"
    }
   },
   "outputs": [],
   "source": [
    "ac_ehmm = getACF(mcmc_ehmm_bp.samples, ehmm_samples)\n",
    "taus_ehmm = 1 + 2 * np.sum(ac_ehmm, axis=2)\n",
    "meantaus_ehmm = np.mean(taus_ehmm)"
   ]
  },
  {
   "cell_type": "code",
   "execution_count": null,
   "id": "d4188cf8-78f2-42bc-a056-44c26dd2dd31",
   "metadata": {
    "collapsed": false,
    "jupyter": {
     "outputs_hidden": false
    },
    "pycharm": {
     "name": "#%%\n"
    }
   },
   "outputs": [],
   "source": [
    "ehmm_met_acc = 100 * np.mean(\n",
    "    [acc[:T].mean() / (n_iter_ehmm * pool_sz * (1 + reverse)) for _, acc in mcmc_ehmm_bp.acceptances.items()])\n",
    "ehmm_shift_acc = 100 * np.mean(\n",
    "    [acc[T + 1:].mean() / (n_iter_ehmm * pool_sz * (1 + reverse)) for _, acc in mcmc_ehmm_bp.acceptances.items()])\n",
    "ehmm_partrm_acc = 100 * np.mean([acc['trm'] / (n_iter_ehmm * nupd * (1 + reverse)) for _, acc in mcmc_ehmm_bp.param_acceptances.items()])\n",
    "ehmm_parobm_acc = 100 * np.mean([acc['obsm'] / (n_iter_ehmm * nupd * (1 + reverse)) for _, acc in mcmc_ehmm_bp.param_acceptances.items()])\n",
    "ehmm_overview = {\"Num seeds\": len(seeds),\n",
    "                 \"Num iter\": n_iter_ehmm,\n",
    "                 \"Time per sample, ms\": np.mean(list(mcmc_ehmm_bp.durations.values())) /\n",
    "                                        list(mcmc_ehmm_bp.samples.values())[0].shape[0],\n",
    "                 \"Acceptance rate, autoregressive update, %\": ehmm_met_acc,\n",
    "                 \"Acceptance rate, shift update, %\": ehmm_shift_acc,\n",
    "                 \"Acceptance rate, param updates for transition model, %\": ehmm_partrm_acc,\n",
    "                 \"Acceptance rate, param updates for observation model, %\": ehmm_parobm_acc,\n",
    "                 \"Average autocorrelation time\": meantaus_ehmm\n",
    "                 }\n",
    "overview = pd.DataFrame({\"EHMM on Poisson model 2\": ehmm_overview})\n",
    "overview"
   ]
  },
  {
   "cell_type": "code",
   "execution_count": null,
   "id": "121fd0f7-8601-45be-8e52-3d2f85ff75cb",
   "metadata": {
    "collapsed": false,
    "jupyter": {
     "outputs_hidden": false
    },
    "pycharm": {
     "name": "#%%\n"
    }
   },
   "outputs": [],
   "source": [
    "ehmm_ar = np.stack(list(mcmc_ehmm_bp.acceptances.values()), axis=1)[:T].ravel() / (\n",
    "            n_iter_ehmm * pool_sz * (1 + reverse))\n",
    "ehmm_shift = np.stack(list(mcmc_ehmm_bp.acceptances.values()), axis=1)[T + 1:].ravel() / (\n",
    "            n_iter_ehmm * pool_sz * (1 + reverse))\n",
    "pd.DataFrame(dict(ehmm_ar=ehmm_ar, ehmm_shift=np.append(ehmm_shift, [np.nan] * len(seeds)))).describe()"
   ]
  },
  {
   "cell_type": "markdown",
   "id": "58946d04",
   "metadata": {
    "pycharm": {
     "name": "#%% md\n"
    }
   },
   "source": [
    "### Test equality of parameters"
   ]
  },
  {
   "cell_type": "code",
   "execution_count": null,
   "outputs": [],
   "source": [
    "params_names = [\"$a_i$\", \"$\\\\rho$\", \"$\\sigma_i$\"]\n",
    "true_values = dict(zip(params_names, [0.9, 0.7, 0.8]))\n",
    "psamples = mcmc_ehmm_bp.get_paramSamples(ehmm_burnin, params_names)\n",
    "params_ttest = ttest(psamples, list(true_values.values()))\n",
    "pd.DataFrame({\"p-value\":params_ttest}, index=params_names)"
   ],
   "metadata": {
    "collapsed": false,
    "pycharm": {
     "name": "#%%\n"
    }
   }
  },
  {
   "cell_type": "code",
   "execution_count": null,
   "id": "bfa05e5f-5f9f-48dd-8864-d8028298fe5d",
   "metadata": {
    "pycharm": {
     "name": "#%%\n"
    }
   },
   "outputs": [],
   "source": [
    "for pname in params_names:\n",
    "    fig, ax = plt.subplots(figsize=(8,5))\n",
    "    ax.hist(psamples[pname], bins=50, density=True)\n",
    "    ax.vlines(true_values[pname], 0, 1, transform=ax.get_xaxis_transform(), linestyles='dashed', color=\"C2\")\n",
    "    plt.tight_layout()\n",
    "    plt.show()"
   ]
  },
  {
   "cell_type": "markdown",
   "id": "790b6631-5441-4c17-b65d-ac2dca81030f",
   "metadata": {
    "pycharm": {
     "name": "#%% md\n"
    }
   },
   "source": [
    "### Convergence analysis"
   ]
  },
  {
   "cell_type": "code",
   "execution_count": null,
   "id": "42df8e9e-6622-478f-9966-ac1e23a45ce4",
   "metadata": {
    "pycharm": {
     "name": "#%%\n"
    }
   },
   "outputs": [],
   "source": [
    "epsr = getEPSR(mcmc_ehmm_bp.samples, ehmm_burnin)"
   ]
  },
  {
   "cell_type": "code",
   "execution_count": null,
   "id": "35c49f7e-1d69-487c-ab90-a500b9d39454",
   "metadata": {
    "pycharm": {
     "name": "#%%\n"
    }
   },
   "outputs": [],
   "source": [
    "from matplotlib.ticker import FormatStrFormatter\n",
    "fig, ax = plt.subplots(figsize=(8,5))\n",
    "xs = np.array(range(1, T+1))\n",
    "for i in range(n):\n",
    "    ax.plot(xs, epsr[:, i])\n",
    "ax.set_xmargin(0.01)\n",
    "ax.locator_params(axis='y', nbins=10)\n",
    "ax.yaxis.set_major_formatter(FormatStrFormatter('%.1f'))\n",
    "# for i, tick in enumerate(ax.yaxis.get_ticklabels()):\n",
    "#     if i % 2 != 0:\n",
    "#         tick.set_visible(False) \n",
    "plt.tight_layout()\n",
    "# plt.savefig(OUTPUTS_PATH/\"epsr_met_lp.png\", dpi=300, format='png')\n",
    "plt.show();"
   ]
  },
  {
   "cell_type": "markdown",
   "id": "1e545c83-f876-4393-880e-49dca3011041",
   "metadata": {
    "pycharm": {
     "name": "#%% md\n"
    }
   },
   "source": [
    "### Autocorrelation"
   ]
  },
  {
   "cell_type": "code",
   "execution_count": null,
   "id": "1e8041a4-51b5-49e0-b05c-202e806dd624",
   "metadata": {
    "pycharm": {
     "name": "#%%\n"
    }
   },
   "outputs": [],
   "source": [
    "fig, ax = plt.subplots(figsize=(8,5))\n",
    "xs = np.array(range(1, T+1))\n",
    "for i in range(n):\n",
    "    ax.plot(xs, taus_ehmm[i, :]*overview.loc['Time per sample, ms', 'EHMM on Poisson model 2'])\n",
    "ax.set_xmargin(0.01)\n",
    "ax.set_xlabel(\"time $t$\")\n",
    "ax.set_ylabel(\"autocorrelation time, ms\")\n",
    "plt.tight_layout()\n",
    "# plt.savefig(OUTPUTS_PATH/\"taus_ehmm_lp.png\", dpi=300, format='png')\n",
    "plt.show();"
   ]
  },
  {
   "cell_type": "code",
   "execution_count": null,
   "id": "5e9ca931-5f19-45ca-a93b-1d81f2756fdc",
   "metadata": {
    "pycharm": {
     "name": "#%%\n"
    }
   },
   "outputs": [],
   "source": [
    "t = 0\n",
    "d = 0\n",
    "\n",
    "fig, ax = plt.subplots(figsize=(8,5))\n",
    "plotACF(ac_ehmm, t, d, ax)\n",
    "ax.set_ylim(-0.25,1)\n",
    "plt.tight_layout()\n",
    "# plt.savefig(OUTPUTS_PATH/f\"acf_ehmm_{t}-{d}_lp.png\", dpi=300, format='png')\n",
    "plt.show();"
   ]
  },
  {
   "cell_type": "markdown",
   "id": "34e708c0",
   "metadata": {
    "pycharm": {
     "name": "#%% md\n"
    }
   },
   "source": [
    "### Trace plots"
   ]
  },
  {
   "cell_type": "code",
   "execution_count": null,
   "id": "07bbc877",
   "metadata": {
    "collapsed": false,
    "jupyter": {
     "outputs_hidden": false
    },
    "pycharm": {
     "name": "#%%\n"
    }
   },
   "outputs": [],
   "source": [
    "plot_trace(ehmm_samples, t, d)"
   ]
  },
  {
   "cell_type": "code",
   "execution_count": null,
   "id": "097fb938-14b9-4f9c-afcd-922c98f848f4",
   "metadata": {
    "pycharm": {
     "name": "#%%\n"
    }
   },
   "outputs": [],
   "source": [
    "plot_mixing(mcmc_ehmm_bp.samples, t, d)"
   ]
  },
  {
   "cell_type": "code",
   "execution_count": null,
   "id": "1116a597-8b56-4881-9563-999e9f782369",
   "metadata": {
    "pycharm": {
     "name": "#%%\n"
    }
   },
   "outputs": [],
   "source": [
    "for idx, param_name in enumerate(params_names):\n",
    "    fig, ax = plt.subplots(figsize=(8, 5))\n",
    "\n",
    "    for seed in seeds:\n",
    "        data = mcmc_ehmm_bp.get_paramSamples(0, params_names, forseed=seed)\n",
    "        ax.plot(data.index, data[param_name], label=f\"seed {seed}\")\n",
    "\n",
    "    ax.set_xmargin(0.01)\n",
    "    ax.set_ylabel(param_name)\n",
    "    ax.set_xlabel(\"sample index\")\n",
    "    ax.legend()\n",
    "    plt.tight_layout()\n",
    "    # plt.savefig(OUTPUTS_PATH / f\"param_plotmix_{param_name}.png\", dpi=300, format='png')\n",
    "    plt.show()"
   ]
  },
  {
   "cell_type": "code",
   "execution_count": null,
   "id": "5b0ae993-66eb-49b4-a363-1262bf466efb",
   "metadata": {
    "pycharm": {
     "name": "#%%\n"
    }
   },
   "outputs": [],
   "source": []
  }
 ],
 "metadata": {
  "kernelspec": {
   "display_name": "Python 3 (ipykernel)",
   "language": "python",
   "name": "python3"
  },
  "language_info": {
   "codemirror_mode": {
    "name": "ipython",
    "version": 3
   },
   "file_extension": ".py",
   "mimetype": "text/x-python",
   "name": "python",
   "nbconvert_exporter": "python",
   "pygments_lexer": "ipython3",
   "version": "3.9.7"
  }
 },
 "nbformat": 4,
 "nbformat_minor": 5
}